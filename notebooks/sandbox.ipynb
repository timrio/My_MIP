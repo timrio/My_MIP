{
 "cells": [
  {
   "cell_type": "code",
   "execution_count": 1,
   "metadata": {},
   "outputs": [],
   "source": [
    "from my_mip.solver.solver import Model\n",
    "\n",
    "\n",
    "model = Model()\n",
    "x = model.NewIntegerVar(\"x\", lb=0, ub=10)\n",
    "y = model.NewIntegerVar(\"y\",lb=0, ub=10)\n",
    "\n",
    "\n",
    "model.Add(3*x + 2*y <= 6)\n",
    "model.Add(-3*x + 2*y <= 0)\n",
    "\n",
    "model.SetObjective(1*y, sense='maximize')\n",
    "\n",
    "\n",
    "model.solve()"
   ]
  },
  {
   "cell_type": "code",
   "execution_count": 2,
   "metadata": {},
   "outputs": [],
   "source": [
    "model = Model()\n",
    "x = model.NewIntegerVar(\"x\", lb=0, ub=10)\n",
    "y = model.NewIntegerVar(\"y\",lb=0, ub=10)"
   ]
  },
  {
   "cell_type": "code",
   "execution_count": 3,
   "metadata": {},
   "outputs": [],
   "source": [
    "model.Add(3*x + 2*y <= 6)\n",
    "model.Add(-3*x + 2*y <= 0)\n",
    "\n",
    "model.SetObjective(1*y, sense='maximize')"
   ]
  },
  {
   "cell_type": "code",
   "execution_count": 4,
   "metadata": {},
   "outputs": [
    {
     "ename": "NameError",
     "evalue": "name 'Variable' is not defined",
     "output_type": "error",
     "traceback": [
      "\u001b[0;31m---------------------------------------------------------------------------\u001b[0m",
      "\u001b[0;31mNameError\u001b[0m                                 Traceback (most recent call last)",
      "Cell \u001b[0;32mIn[4], line 1\u001b[0m\n\u001b[0;32m----> 1\u001b[0m model\u001b[39m.\u001b[39;49msolve()\n",
      "File \u001b[0;32m~/Code_Bases/My_MIP/my_mip/solver/solver.py:101\u001b[0m, in \u001b[0;36mModel.solve\u001b[0;34m(self)\u001b[0m\n\u001b[1;32m     98\u001b[0m root_node \u001b[39m=\u001b[39m \u001b[39mself\u001b[39m\u001b[39m.\u001b[39mcreate_root_node()\n\u001b[1;32m     99\u001b[0m \u001b[39mself\u001b[39m\u001b[39m.\u001b[39minitial_basis_indexes \u001b[39m=\u001b[39m root_node\u001b[39m.\u001b[39mbasis_indexes\n\u001b[0;32m--> 101\u001b[0m best_solution \u001b[39m=\u001b[39m \u001b[39mself\u001b[39;49m\u001b[39m.\u001b[39;49mbranch_and_bound(root_node)\n\u001b[1;32m    103\u001b[0m \u001b[39mreturn\u001b[39;00m best_solution\n",
      "File \u001b[0;32m~/Code_Bases/My_MIP/my_mip/solver/branch_and_bound.py:26\u001b[0m, in \u001b[0;36mBranchAndBound.branch_and_bound\u001b[0;34m(self, root_node)\u001b[0m\n\u001b[1;32m     24\u001b[0m \u001b[39mwhile\u001b[39;00m \u001b[39mself\u001b[39m\u001b[39m.\u001b[39mactive_nodes:\n\u001b[1;32m     25\u001b[0m     current_node \u001b[39m=\u001b[39m \u001b[39mself\u001b[39m\u001b[39m.\u001b[39mselect_next_node()\n\u001b[0;32m---> 26\u001b[0m     current_node \u001b[39m=\u001b[39m \u001b[39mself\u001b[39;49m\u001b[39m.\u001b[39;49msolve_lp_relaxation(current_node)\n\u001b[1;32m     27\u001b[0m     \u001b[39mif\u001b[39;00m current_node\u001b[39m.\u001b[39mcurrent_optimal_value \u001b[39m>\u001b[39m \u001b[39mself\u001b[39m\u001b[39m.\u001b[39mbest_objective:\n\u001b[1;32m     28\u001b[0m         \u001b[39m# here we prune the node\u001b[39;00m\n\u001b[1;32m     29\u001b[0m         \u001b[39mcontinue\u001b[39;00m\n",
      "File \u001b[0;32m~/Code_Bases/My_MIP/my_mip/solver/branch_and_bound.py:56\u001b[0m, in \u001b[0;36mBranchAndBound.solve_lp_relaxation\u001b[0;34m(self, node)\u001b[0m\n\u001b[1;32m     54\u001b[0m gomory_cuts \u001b[39m=\u001b[39m find_gomory_cuts(node)\n\u001b[1;32m     55\u001b[0m \u001b[39m# Add cuts to the model\u001b[39;00m\n\u001b[0;32m---> 56\u001b[0m node \u001b[39m=\u001b[39m add_gomory_cuts_to_model(node, gomory_cuts)\n\u001b[1;32m     57\u001b[0m \u001b[39m# resolve\u001b[39;00m\n\u001b[1;32m     58\u001b[0m node \u001b[39m=\u001b[39m dual_simplex(node)\n",
      "File \u001b[0;32m~/Code_Bases/My_MIP/my_mip/core/cutting_planes/gomory_cuts.py:41\u001b[0m, in \u001b[0;36madd_gomory_cuts_to_model\u001b[0;34m(node, gomory_cuts)\u001b[0m\n\u001b[1;32m     38\u001b[0m node\u001b[39m.\u001b[39mb \u001b[39m=\u001b[39m np\u001b[39m.\u001b[39mappend(node\u001b[39m.\u001b[39mb, cut_b)\n\u001b[1;32m     40\u001b[0m \u001b[39m# Add a new slack variable to the node, update c and variables list\u001b[39;00m\n\u001b[0;32m---> 41\u001b[0m new_slack_var \u001b[39m=\u001b[39m node\u001b[39m.\u001b[39;49mNewSlackVar()\n\u001b[1;32m     42\u001b[0m node\u001b[39m.\u001b[39mc \u001b[39m=\u001b[39m np\u001b[39m.\u001b[39mappend(node\u001b[39m.\u001b[39mc, \u001b[39m0\u001b[39m)  \u001b[39m# Assuming no cost for slack variables\u001b[39;00m\n\u001b[1;32m     43\u001b[0m node\u001b[39m.\u001b[39mvariables\u001b[39m.\u001b[39mappend(new_slack_var)\n",
      "File \u001b[0;32m~/Code_Bases/My_MIP/my_mip/solver/node.py:18\u001b[0m, in \u001b[0;36mNode.NewSlackVar\u001b[0;34m(self)\u001b[0m\n\u001b[1;32m     15\u001b[0m \u001b[39mdef\u001b[39;00m \u001b[39mNewSlackVar\u001b[39m(\u001b[39mself\u001b[39m):\n\u001b[1;32m     16\u001b[0m     \u001b[39m# Method to create and return a new slack or surplus variable\u001b[39;00m\n\u001b[1;32m     17\u001b[0m     \u001b[39m# Adjust the implementation as per your requirements\u001b[39;00m\n\u001b[0;32m---> 18\u001b[0m     slack_var \u001b[39m=\u001b[39m Variable(\u001b[39mf\u001b[39m\u001b[39m\"\u001b[39m\u001b[39mslack_\u001b[39m\u001b[39m{\u001b[39;00m\u001b[39mlen\u001b[39m(\u001b[39mself\u001b[39m\u001b[39m.\u001b[39mvariables)\u001b[39m}\u001b[39;00m\u001b[39m\"\u001b[39m, lb\u001b[39m=\u001b[39m\u001b[39m0\u001b[39m, vtype\u001b[39m=\u001b[39m\u001b[39m'\u001b[39m\u001b[39mcontinuous\u001b[39m\u001b[39m'\u001b[39m)\n\u001b[1;32m     19\u001b[0m     \u001b[39mreturn\u001b[39;00m slack_var\n",
      "\u001b[0;31mNameError\u001b[0m: name 'Variable' is not defined"
     ]
    }
   ],
   "source": [
    "model.solve()"
   ]
  },
  {
   "cell_type": "code",
   "execution_count": null,
   "metadata": {},
   "outputs": [],
   "source": []
  }
 ],
 "metadata": {
  "kernelspec": {
   "display_name": "my_mip",
   "language": "python",
   "name": "python3"
  },
  "language_info": {
   "codemirror_mode": {
    "name": "ipython",
    "version": 3
   },
   "file_extension": ".py",
   "mimetype": "text/x-python",
   "name": "python",
   "nbconvert_exporter": "python",
   "pygments_lexer": "ipython3",
   "version": "3.9.13"
  },
  "orig_nbformat": 4,
  "vscode": {
   "interpreter": {
    "hash": "048c9be826156c5185cee574e454a480f8189b833792f6f9bc4894609f49976a"
   }
  }
 },
 "nbformat": 4,
 "nbformat_minor": 2
}
